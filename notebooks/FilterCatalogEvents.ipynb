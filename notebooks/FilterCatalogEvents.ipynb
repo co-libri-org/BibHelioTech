{
 "cells": [
  {
   "cell_type": "code",
   "execution_count": 35,
   "id": "a4f09cc8-02b6-4da0-ba3c-845f2ed2fc91",
   "metadata": {},
   "outputs": [
    {
     "name": "stdout",
     "output_type": "stream",
     "text": [
      "210\n"
     ]
    }
   ],
   "source": [
    "import pandas as pd\n",
    "import matplotlib.pyplot as plt\n",
    "import matplotlib\n",
    "import csv\n",
    "\n",
    "\n",
    "def cat2df(file_path):\n",
    "    \"\"\" Read a catalog file, return a list  of intervals\n",
    "    \n",
    "    \"\"\"\n",
    "    \n",
    "    # filepath = os.path.join(os.getcwd(), '..', 'resources-tests', '105194angeo282332010_bibheliotech_V1.txt')\n",
    "    with open(file_path, 'r') as cat_f:\n",
    "        catlines = cat_f.readlines()\n",
    "\n",
    "    return lines2df(catlines)\n",
    "\n",
    "def lines2df(catlines):\n",
    "    \"\"\" Read a catalog file, return a list  of intervals\n",
    "        index start stop\n",
    "        ----- ----- ----\n",
    "        .     .     . \n",
    "        .     .     . \n",
    "        .     .     . \n",
    "        .    \n",
    "    \"\"\"\n",
    "    data_rows=[]\n",
    "    i=0\n",
    "    for _l in catlines:\n",
    "        print(i)\n",
    "        i = i+1\n",
    "        if _l[0] == '#':\n",
    "            continue\n",
    "        else:\n",
    "            s_line = _l.split(\" \")\n",
    "            data_rows.append([s_line[0],s_line[1]])\n",
    "\n",
    "    \n",
    "    _df = pd.DataFrame(data=data_rows, columns=[\"start\", \"stop\"])\n",
    "    _df.sort_values(\"start\", inplace=True)\n",
    "    _df[\"start\"] = pd.to_datetime(_df[\"start\"])\n",
    "    _df[\"stop\"] = pd.to_datetime(_df[\"stop\"])\n",
    "    _df.drop_duplicates(inplace=True)\n",
    "    return _df\n",
    "\n",
    "\n",
    "catfile = \"./data/long_catalog.txt\"\n",
    "\n",
    "cols_to_use = [0, 1, 3, 4, 5, 11]\n",
    "# cols_to_use = [0, 1, 3]\n",
    "\n",
    "df = pd.read_csv(catfile, engine='python', sep=' +', header=None, comment='#')#, usecols=cols_to_use)\n",
    "# print(df.duplicated())\n",
    "df_no_dup = df.drop_duplicates(subset=cols_to_use)\n",
    "print(len(df_no_dup))\n",
    "\n",
    "\n"
   ]
  }
 ],
 "metadata": {
  "kernelspec": {
   "display_name": "Python 3 (ipykernel)",
   "language": "python",
   "name": "python3"
  },
  "language_info": {
   "codemirror_mode": {
    "name": "ipython",
    "version": 3
   },
   "file_extension": ".py",
   "mimetype": "text/x-python",
   "name": "python",
   "nbconvert_exporter": "python",
   "pygments_lexer": "ipython3",
   "version": "3.12.3"
  }
 },
 "nbformat": 4,
 "nbformat_minor": 5
}
